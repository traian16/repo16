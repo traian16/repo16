{
  "nbformat": 4,
  "nbformat_minor": 0,
  "metadata": {
    "colab": {
      "name": "Sentiment Analysis for Facebook Posts with Machine Learning.ipynb",
      "provenance": [],
      "authorship_tag": "ABX9TyPwgjqa0NjT0hdzHIXjR4mX",
      "include_colab_link": true
    },
    "kernelspec": {
      "name": "python3",
      "display_name": "Python 3"
    },
    "language_info": {
      "name": "python"
    }
  },
  "cells": [
    {
      "cell_type": "markdown",
      "metadata": {
        "id": "view-in-github",
        "colab_type": "text"
      },
      "source": [
        "<a href=\"https://colab.research.google.com/github/traian16/repo16/blob/main/Sentiment_Analysis_for_Facebook_Posts_with_Machine_Learning.ipynb\" target=\"_parent\"><img src=\"https://colab.research.google.com/assets/colab-badge.svg\" alt=\"Open In Colab\"/></a>"
      ]
    },
    {
      "cell_type": "code",
      "metadata": {
        "colab": {
          "base_uri": "https://localhost:8080/"
        },
        "id": "A5DoJdUZAhEG",
        "outputId": "df0fc6b4-3dd2-4295-a72f-2e1a27584167"
      },
      "source": [
        "import pandas as pd\n",
        "import nltk\n",
        "from nltk.sentiment.vader import SentimentIntensityAnalyzer\n",
        "from nltk.stem import LancasterStemmer, WordNetLemmatizer \n",
        "from nltk.corpus import stopwords\n",
        "from nltk.probability import FreqDist\n",
        "import re\n",
        "import unicodedata\n",
        "import json\n",
        "import inflect\n",
        "import matplotlib.pyplot as plt\n",
        "\n",
        "import json\n",
        "# load json file into dataframe, assign to 'data'\n",
        "with open('your_posts_1.json') as file:\n",
        "#with open('BP_Optimum_Johor_15092021.json') as file:\n",
        "  data = json.load(file)\n",
        "\n",
        "\n",
        "print(type(data))       # a list\n",
        "print(type(data[0]))    # first object in the list is a dictionary\n",
        "print(len(data))"
      ],
      "execution_count": 60,
      "outputs": [
        {
          "output_type": "stream",
          "name": "stdout",
          "text": [
            "<class 'list'>\n",
            "<class 'dict'>\n",
            "234\n"
          ]
        }
      ]
    },
    {
      "cell_type": "markdown",
      "metadata": {
        "id": "cJwPzg8BF6jo"
      },
      "source": [
        "# Store the textual data of my FB posts in a list; extract the descriptions from the posts so that we can analyze the sentiments of the posts"
      ]
    },
    {
      "cell_type": "code",
      "metadata": {
        "id": "VNNmrkq6Fz6w"
      },
      "source": [
        "# create empty list\n",
        "empty_lst = []\n",
        "# multiple nested loops to store all post in empty list\n",
        "for dct in data:\n",
        "    for k, v in dct.items():\n",
        "        if k == 'data':\n",
        "            if len(v) > 0:\n",
        "                for k_i, v_i in v[0].items():  \n",
        "                    if k_i == 'post':\n",
        "                        empty_lst.append(v_i)\n",
        "print(\"This is the empty list: \", empty_lst)\n",
        "print(\"\\nLength of list: \", len(empty_lst))\n",
        "for i in empty_lst:\n",
        "  print(i)"
      ],
      "execution_count": null,
      "outputs": []
    },
    {
      "cell_type": "markdown",
      "metadata": {
        "id": "WgSCJs6KJFFk"
      },
      "source": [
        "# Perform Tokenization on the textual data that was just stored in the List"
      ]
    },
    {
      "cell_type": "code",
      "metadata": {
        "colab": {
          "base_uri": "https://localhost:8080/"
        },
        "id": "jVOLY05Egs20",
        "outputId": "ab634434-c842-4bdf-c04a-f536697d5fd2"
      },
      "source": [
        "nltk.download('punkt')\n",
        "nested_sent_token = [nltk.sent_tokenize(lst) for lst in empty_lst]\n",
        "# flatten list, len: 3241\n",
        "flat_sent_token = [item for sublist in nested_sent_token for item in sublist]\n",
        "print(\"Flatten sentence token: \", len(flat_sent_token))"
      ],
      "execution_count": 63,
      "outputs": [
        {
          "output_type": "stream",
          "name": "stdout",
          "text": [
            "[nltk_data] Downloading package punkt to /root/nltk_data...\n",
            "[nltk_data]   Package punkt is already up-to-date!\n",
            "Flatten sentence token:  127\n"
          ]
        }
      ]
    },
    {
      "cell_type": "markdown",
      "metadata": {
        "id": "A1XuqFaDMJ26"
      },
      "source": [
        "# Now we need to Normalize the data by writing some functions"
      ]
    },
    {
      "cell_type": "code",
      "metadata": {
        "colab": {
          "base_uri": "https://localhost:8080/"
        },
        "id": "TEovo_A9MUvI",
        "outputId": "a26e0e2f-3cb7-4b60-8887-32165d10c5d2"
      },
      "source": [
        "def remove_non_ascii(words):\n",
        "    new_words = []\n",
        "    for word in words:\n",
        "        new_word = unicodedata.normalize('NFKD', word).encode(\n",
        "            'ascii', 'ignore').decode('utf-8', 'ignore')\n",
        "        new_words.append(new_word)\n",
        "    return new_words\n",
        "\n",
        "# To LowerCase\n",
        "def to_lowercase(words):\n",
        "    new_words = []\n",
        "    for word in words:\n",
        "        new_word = word.lower()\n",
        "        new_words.append(new_word)\n",
        "    return new_words\n",
        "\n",
        "# Remove Punctuation\n",
        "def remove_punctuation(words):\n",
        "    new_words = []\n",
        "    for word in words:\n",
        "        new_word = re.sub(r'[^\\w\\s]', '', word)\n",
        "        if new_word != '':\n",
        "            new_words.append(new_word)\n",
        "    return new_words\n",
        "\n",
        "# Replace Numbers with Textual Representations\n",
        "def replace_numbers(words):\n",
        "    p = inflect.engine()\n",
        "    new_words = []\n",
        "    for word in words:\n",
        "        if word.isdigit():\n",
        "            new_word = p.number_to_words(word)\n",
        "            new_words.append(new_word)\n",
        "        else:\n",
        "            new_words.append(word)\n",
        "    return new_words\n",
        "\n",
        "# Remove Stopwords\n",
        "def remove_stopwords(words):\n",
        "    new_words = []\n",
        "    for word in words:\n",
        "        if word not in stopwords.words('english'):\n",
        "            new_words.append(word)\n",
        "    return new_words\n",
        "\n",
        "# Combine all functions into Normalize() function\n",
        "def normalize(words):\n",
        "    words = remove_non_ascii(words)\n",
        "    words = to_lowercase(words)\n",
        "    words = remove_punctuation(words)\n",
        "    words = replace_numbers(words)\n",
        "    words = remove_stopwords(words)\n",
        "    return words\n",
        "\n",
        "nltk.download('stopwords')\n",
        "sents = normalize(flat_sent_token)\n",
        "print(\"Lenght of sentences list:\", len(sents))\n",
        "\n"
      ],
      "execution_count": 64,
      "outputs": [
        {
          "output_type": "stream",
          "name": "stdout",
          "text": [
            "[nltk_data] Downloading package stopwords to /root/nltk_data...\n",
            "[nltk_data]   Package stopwords is already up-to-date!\n",
            "Lenght of sentences list: 124\n"
          ]
        }
      ]
    },
    {
      "cell_type": "code",
      "metadata": {
        "colab": {
          "base_uri": "https://localhost:8080/",
          "height": 436
        },
        "id": "mMvXJ1fCN2uX",
        "outputId": "40325030-14f1-4024-b1b8-2e247f58a143"
      },
      "source": [
        "# Vizualize data, check the most frequent sentences to see what I share the most on Facebook posts:\n",
        "from nltk.probability import FreqDist\n",
        "# Find frequency of sentence \n",
        "fdist_sent = FreqDist(sents)\n",
        "fdist_sent.most_common(20)\n",
        "# Plot\n",
        "fdist_sent.plot(10)\n"
      ],
      "execution_count": 65,
      "outputs": [
        {
          "output_type": "display_data",
          "data": {
            "image/png": "[encoded data removed]",
            "text/plain": [
              "<Figure size 432x288 with 1 Axes>"
            ]
          },
          "metadata": {
            "needs_background": "light"
          }
        }
      ]
    },
    {
      "cell_type": "markdown",
      "metadata": {
        "id": "Pd6CdzKiPUY4"
      },
      "source": [
        "# Facebook Posts - Sentiment Analysis & create a report showing whether the sentiments are neutral, positive or negative\n"
      ]
    },
    {
      "cell_type": "code",
      "metadata": {
        "id": "99uue_XeP8rD"
      },
      "source": [
        "nltk.download('vader_lexicon')\n",
        "sia = SentimentIntensityAnalyzer()\n",
        "sentiment = []\n",
        "sentiment2 = []\n",
        "for sent in sents:\n",
        "  sent1 = sent\n",
        "  sent_scores = sia.polarity_scores(sent1)\n",
        "  for x,y in sent_scores.items():\n",
        "    sentiment2.append((x,y))\n",
        "  sentiment.append((sent1, sent_scores))\n",
        "  print(sentiment)\n",
        "\n"
      ],
      "execution_count": null,
      "outputs": []
    },
    {
      "cell_type": "code",
      "metadata": {
        "id": "frBFOHlwUgtp"
      },
      "source": [
        "# Sentiment\n",
        "cols = ['sentence', 'numbers']\n",
        "result = pd.DataFrame(sentiment, columns=cols)\n",
        "print(\"The first five raws of result\", result.head())\n",
        "\n",
        "# Sentiment 2\n",
        "cols = ['label', 'values']\n",
        "result2 = pd.DataFrame(sentiment2, columns=cols)\n",
        "print(\"The first five raws of result2\", result2.head())\n"
      ],
      "execution_count": null,
      "outputs": []
    }
  ]
}