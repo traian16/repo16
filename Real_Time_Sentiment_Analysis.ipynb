{
  "nbformat": 4,
  "nbformat_minor": 0,
  "metadata": {
    "colab": {
      "name": "Real-Time Sentiment Analysis.ipynb",
      "provenance": [],
      "collapsed_sections": [],
      "authorship_tag": "ABX9TyMsEetHamRT7uraaK/KrCjy",
      "include_colab_link": true
    },
    "kernelspec": {
      "name": "python3",
      "display_name": "Python 3"
    },
    "language_info": {
      "name": "python"
    }
  },
  "cells": [
    {
      "cell_type": "markdown",
      "metadata": {
        "id": "view-in-github",
        "colab_type": "text"
      },
      "source": [
        "<a href=\"https://colab.research.google.com/github/traian16/repo16/blob/main/Real_Time_Sentiment_Analysis.ipynb\" target=\"_parent\"><img src=\"https://colab.research.google.com/assets/colab-badge.svg\" alt=\"Open In Colab\"/></a>"
      ]
    },
    {
      "cell_type": "code",
      "metadata": {
        "colab": {
          "base_uri": "https://localhost:8080/"
        },
        "id": "ru941RhWE2Hg",
        "outputId": "1627395f-3bec-49f6-a2e0-ba1948827e01"
      },
      "source": [
        "import nltk\n",
        "from nltk.sentiment.vader import SentimentIntensityAnalyzer\n",
        "nltk.download('vader_lexicon')\n"
      ],
      "execution_count": 3,
      "outputs": [
        {
          "output_type": "stream",
          "name": "stdout",
          "text": [
            "[nltk_data] Downloading package vader_lexicon to /root/nltk_data...\n"
          ]
        },
        {
          "output_type": "execute_result",
          "data": {
            "text/plain": [
              "True"
            ]
          },
          "metadata": {},
          "execution_count": 3
        }
      ]
    },
    {
      "cell_type": "code",
      "metadata": {
        "colab": {
          "base_uri": "https://localhost:8080/"
        },
        "id": "U2tXWJniMkpP",
        "outputId": "1b708d7a-d56b-4ff3-8267-40dd89aa2149"
      },
      "source": [
        "user_input = input(\"Please rate the quality of our services provided to you >>: \")\n",
        "sia = SentimentIntensityAnalyzer()\n",
        "score = sia.polarity_scores(user_input)\n",
        "#print(score)\n",
        "if score[\"neg\"] != 0:\n",
        "  print('Negative')\n",
        "else:\n",
        "  print('Positive')\n",
        "  \n",
        "\n"
      ],
      "execution_count": 26,
      "outputs": [
        {
          "output_type": "stream",
          "name": "stdout",
          "text": [
            "Please rate the quality of our services provided to you >>: not too bad \n",
            "Positive\n"
          ]
        }
      ]
    }
  ]
}